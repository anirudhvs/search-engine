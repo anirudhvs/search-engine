{
 "cells": [
  {
   "cell_type": "code",
   "execution_count": null,
   "id": "still-thong",
   "metadata": {
    "scrolled": true,
    "tags": []
   },
   "outputs": [],
   "source": [
    "from essential_generators import DocumentGenerator, MarkovWordGenerator, MarkovTextGenerator\n",
    "import random\n",
    "import json\n",
    "import urllib\n",
    "import os\n",
    "import glob"
   ]
  },
  {
   "cell_type": "code",
   "execution_count": null,
   "id": "detected-asbestos",
   "metadata": {
    "scrolled": true,
    "tags": []
   },
   "outputs": [],
   "source": [
    "def make_wordgen_model(corpus=\"corpus.txt\", output=\"markov_wordgen.json\"):\n",
    "    with open(corpus, 'r', encoding='utf-8') as fp:\n",
    "        set4 = fp.read()\n",
    "\n",
    "    gen = MarkovWordGenerator(load_model=False)\n",
    "    gen.train(set4)\n",
    "    gen.save_model(output)\n",
    "\n",
    "\n",
    "def make_textgen_model(corpus=\"corpus.txt\", output='markov_textgen.json'):\n",
    "    with open(corpus, 'r', encoding='utf-8') as fp:\n",
    "        set4 = fp.read()\n",
    "\n",
    "    gen = MarkovTextGenerator(load_model=False)\n",
    "    gen.train(set4)\n",
    "    gen.save_model(output)"
   ]
  },
  {
   "cell_type": "code",
   "execution_count": null,
   "id": "further-jordan",
   "metadata": {
    "scrolled": true,
    "tags": []
   },
   "outputs": [],
   "source": [
    "make_wordgen_model()\n",
    "make_textgen_model()"
   ]
  },
  {
   "cell_type": "code",
   "execution_count": null,
   "id": "stylish-tutorial",
   "metadata": {
    "scrolled": true,
    "tags": []
   },
   "outputs": [],
   "source": [
    "def cleanup(s: str):\n",
    "    return s.replace(' \\n', '\\n').replace('\\n', '. ').replace('..', '.').replace('  ', ' ')\n",
    "\n",
    "\n",
    "def get_slug(s: str):\n",
    "    return s.lower().replace('.', '').replace(' ', '-')\n",
    "\n",
    "\n",
    "def get_site_url(site: str, title: str):\n",
    "    return f'http://{site}/{urllib.parse.quote(get_slug(title))}.html'"
   ]
  },
  {
   "cell_type": "code",
   "execution_count": null,
   "id": "violent-music",
   "metadata": {
    "scrolled": true,
    "tags": []
   },
   "outputs": [],
   "source": [
    "class Page:\n",
    "    def __init__(self, title: str, body: str, links: list):\n",
    "        self.title = title\n",
    "        self.body = body\n",
    "        self.links = links\n",
    "\n",
    "    def set_parent_site(self, site: str):\n",
    "        self.parent_site = site\n",
    "        self.slug = get_slug(self.title)\n",
    "        self.site_url = get_site_url(site, self.title)\n",
    "\n",
    "    def to_dict(self):\n",
    "        return {\n",
    "            'title': self.title,\n",
    "            'body': self.body,\n",
    "            'links': self.links,\n",
    "            'parent_site': self.parent_site,\n",
    "            'site_url': self.site_url,\n",
    "            'link_urls': self.link_urls,\n",
    "            'slug': self.slug\n",
    "        }"
   ]
  },
  {
   "cell_type": "code",
   "execution_count": null,
   "id": "phantom-racing",
   "metadata": {
    "scrolled": true,
    "tags": []
   },
   "outputs": [],
   "source": [
    "# Config block\n",
    "SITE_COUNT = 1000\n",
    "MAX_LINKS_PER_PAGE = 20\n",
    "parent_sites = [\n",
    "    'site1.adsa-project.local',\n",
    "    'site2.adsa-project.local',\n",
    "    'site3.adsa-project.local'\n",
    "]"
   ]
  },
  {
   "cell_type": "code",
   "execution_count": null,
   "id": "republican-combat",
   "metadata": {
    "scrolled": true,
    "tags": []
   },
   "outputs": [],
   "source": [
    "g = DocumentGenerator(text_generator=MarkovTextGenerator(model='markov_textgen.json'))\n",
    "\n",
    "# Generate page objects\n",
    "pages = []\n",
    "for i in range(SITE_COUNT):\n",
    "    page = Page(\n",
    "        title=cleanup(g.gen_sentence(3, 6)).title(),\n",
    "        body=cleanup(\n",
    "            '. '.join([\n",
    "                g.gen_sentence(5, 15) for _ in range(random.randint(20, 30))\n",
    "            ])\n",
    "        ),\n",
    "        links=[\n",
    "            random.randint(0, SITE_COUNT - 1)\n",
    "            for _ in range(0, random.randint(0, MAX_LINKS_PER_PAGE))\n",
    "        ]\n",
    "    )\n",
    "    pages.append(page)\n",
    "\n",
    "# Map pages to parent sites\n",
    "for page in pages:\n",
    "    parent_site = parent_sites[random.randint(0, 2)]\n",
    "    page.set_parent_site(parent_site)\n",
    "\n",
    "# Map page links to site urls\n",
    "for page in pages:\n",
    "    page.link_urls = [pages[i].site_url for i in page.links]\n",
    "\n",
    "# Write out site data json\n",
    "open('site_data.json', 'w').write(\n",
    "    '[' + ', '.join([json.dumps(page.to_dict()) for page in pages]) + ']'\n",
    ")\n",
    "\n",
    "# Remove old generated files\n",
    "old_files = glob.glob('site/pages/*.html')\n",
    "for file in old_files:\n",
    "    os.remove(file)\n",
    "\n",
    "# Write index.html\n",
    "index_content = f'''\n",
    "<html>\n",
    "<body>\n",
    "{'<br/>'.join([f'<a href=\"{page.site_url}\">{page.title}</a>' for page in pages])}\n",
    "</body>\n",
    "</html>\n",
    "'''\n",
    "with open('site/pages/index.html', 'w') as fp:\n",
    "    fp.write(index_content)\n",
    "\n",
    "# Write all other pages\n",
    "for page in pages:\n",
    "    links = f'''\n",
    "    <p>Related links:&nbsp;\n",
    "    {' '.join([\n",
    "    f'<a href=\"{url}\">{i + 1}</a>' for (i, url) in enumerate(page.link_urls)\n",
    "    ])}\n",
    "    </p>\n",
    "    '''\n",
    "    content = f'''\n",
    "<html>\n",
    "<head>\n",
    "    <title>{page.title}</title>\n",
    "</head>\n",
    "<body>\n",
    "    <h1>{page.title}</h1>\n",
    "    <br/>\n",
    "    <p>{page.body}</p>\n",
    "    <br/>\n",
    "    {links}\n",
    "</body>\n",
    "</html>\n",
    "    '''\n",
    "    with open(f'site/pages/{page.slug}.html', 'w') as fp:\n",
    "        fp.write(content)"
   ]
  },
  {
   "cell_type": "code",
   "execution_count": null,
   "metadata": {},
   "outputs": [],
   "source": []
  }
 ],
 "metadata": {
  "kernelspec": {
   "display_name": "Python 3",
   "language": "python",
   "name": "python3"
  },
  "language_info": {
   "codemirror_mode": {
    "name": "ipython",
    "version": 3
   },
   "file_extension": ".py",
   "mimetype": "text/x-python",
   "name": "python",
   "nbconvert_exporter": "python",
   "pygments_lexer": "ipython3",
   "version": "3.8.8"
  }
 },
 "nbformat": 4,
 "nbformat_minor": 5
}